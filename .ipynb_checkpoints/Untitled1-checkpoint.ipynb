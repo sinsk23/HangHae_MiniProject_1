{
 "cells": [
  {
   "cell_type": "code",
   "execution_count": null,
   "id": "black-pepper",
   "metadata": {},
   "outputs": [],
   "source": [
    "// // 구분   키워드1   키워드2   키워드3   키워드4   키워드5\n",
    "// 괌    자연   고가   북미   쇼핑   휴양\n",
    "// 네팔   자연   고가   아시아   음식   모험\n",
    "// 대만   도시   저가   아시아   음식   휴양\n",
    "// 러시아   도시   저가   유럽   쇼핑   모험\n",
    "// 멕시코   도시   고가   남미   음식   모험\n",
    "// 미국   도시   고가   북미   쇼핑   휴양\n",
    "// 베트남   자연   저가   아시아   쇼핑   모험\n",
    "// 브라질   자연   고가   남미   음식   모험\n",
    "// 스페인   도시   고가   유럽   음식   모험\n",
    "// 싱가포르   도시   고가   아시아   쇼핑   휴양\n",
    "// 영국   도시   고가   유럽   쇼핑   모험\n",
    "// 인도     도시   고가   아시아   음식   모험\n",
    "// 일본    도시   저가   아시아   음식   모험\n",
    "// 중국    도시   저가   아시아   쇼핑   모험\n",
    "// 캐나다   자연   고가   북미   쇼핑   모험\n",
    "// 태국   자연   저가   아시아   음식   휴양\n",
    "// 프랑스   도시   고가   유럽   음식   휴양\n",
    "// 호주   자연   고가   아시아   쇼핑   모험\n"
   ]
  },
  {
   "cell_type": "code",
   "execution_count": 3,
   "id": "blond-interaction",
   "metadata": {},
   "outputs": [],
   "source": [
    "let arr1 = [\"자연\", \"도시\"];\n",
    "let arr2 = [\"고가\", \"저가\"];\n",
    "let arr3 = [\"북미\", \"남미\", \"아시아\", \"유럽\"];\n",
    "let arr4 = [\"쇼핑\", \"음식\"];\n",
    "let arr5 = [\"모험\", \"휴양\"];"
   ]
  },
  {
   "cell_type": "code",
   "execution_count": 4,
   "id": "executive-harvard",
   "metadata": {},
   "outputs": [
    {
     "ename": "SyntaxError",
     "evalue": "Identifier 'data' has already been declared",
     "execution_count": 4,
     "output_type": "error",
     "traceback": [
      "evalmachine.<anonymous>:1",
      "let data = []",
      "^",
      "",
      "SyntaxError: Identifier 'data' has already been declared",
      "    at Script.runInThisContext (node:vm:129:12)",
      "    at Object.runInThisContext (node:vm:305:38)",
      "    at run ([eval]:1020:15)",
      "    at onRunRequest ([eval]:864:18)",
      "    at onMessage ([eval]:828:13)",
      "    at process.emit (node:events:527:28)",
      "    at emit (node:internal/child_process:938:14)",
      "    at processTicksAndRejections (node:internal/process/task_queues:84:21)"
     ]
    }
   ],
   "source": [
    "let data = []"
   ]
  },
  {
   "cell_type": "code",
   "execution_count": 2,
   "id": "familiar-kenya",
   "metadata": {},
   "outputs": [
    {
     "ename": "ReferenceError",
     "evalue": "arr1 is not defined",
     "execution_count": 2,
     "output_type": "error",
     "traceback": [
      "evalmachine.<anonymous>:1",
      "for (let i = 0; i < arr1.length; i++) {",
      "                    ^",
      "",
      "ReferenceError: arr1 is not defined",
      "    at evalmachine.<anonymous>:1:21",
      "    at Script.runInThisContext (node:vm:129:12)",
      "    at Object.runInThisContext (node:vm:305:38)",
      "    at run ([eval]:1020:15)",
      "    at onRunRequest ([eval]:864:18)",
      "    at onMessage ([eval]:828:13)",
      "    at process.emit (node:events:527:28)",
      "    at emit (node:internal/child_process:938:14)",
      "    at processTicksAndRejections (node:internal/process/task_queues:84:21)"
     ]
    }
   ],
   "source": [
    "for (let i = 0; i < arr1.length; i++) {\n",
    "  for (let j = 0; j < arr2.length; j++) {\n",
    "    for (let k = 0; k < arr3.length; k++) {\n",
    "      for (let l = 0; l < arr4.length; l++) {\n",
    "        for (let m = 0; m < arr5.length; m++) {\n",
    "          console.log([arr1[i], arr2[j], arr3[k], arr4[l], arr5[m]]);\n",
    "          data.push([arr1[i], arr2[j], arr3[k], arr4[l], arr5[m]]);\n",
    "        }\n",
    "      }\n",
    "    }\n",
    "  }\n",
    "}\n"
   ]
  },
  {
   "cell_type": "code",
   "execution_count": null,
   "id": "moderate-reconstruction",
   "metadata": {},
   "outputs": [],
   "source": [
    "data"
   ]
  },
  {
   "cell_type": "code",
   "execution_count": null,
   "id": "about-emperor",
   "metadata": {},
   "outputs": [],
   "source": []
  }
 ],
 "metadata": {
  "kernelspec": {
   "display_name": "JavaScript (Node.js)",
   "language": "javascript",
   "name": "javascript"
  },
  "language_info": {
   "file_extension": ".js",
   "mimetype": "application/javascript",
   "name": "javascript",
   "version": "16.16.0"
  }
 },
 "nbformat": 4,
 "nbformat_minor": 5
}
