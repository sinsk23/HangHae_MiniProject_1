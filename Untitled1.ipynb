{
 "cells": [
  {
   "cell_type": "code",
   "execution_count": 1,
   "id": "respiratory-actress",
   "metadata": {},
   "outputs": [],
   "source": [
    "const crypto = require(\"crypto\");\n",
    "\n",
    "// 저장소 클래스를 선언합니다.\n",
    "class UserRepository {\n",
    "\n",
    "  // userId와 password 동시에 맞는 1명의 유저를 찾는다.\n",
    "  getUserbyIdPw = async (userId, password) => {\n",
    "    const { password_salt } = await User.findOne({\n",
    "      where: { userId },\n",
    "    });\n",
    "    const { hashedPassword } = this.hashFunction(password, password_salt);\n",
    "    // 찾아서\n",
    "    const userInfo = await User.findOne({\n",
    "      where: { userId, password: hashedPassword },\n",
    "    });\n",
    "\n",
    "    // 리턴\n",
    "    return userInfo;\n",
    "  };\n",
    "  // User DB 생성\n",
    "  createUser = async (userId, nickname, password) => {\n",
    "    const { hashedPassword, salt } = this.hashFunction(password);\n",
    "\n",
    "    // 전달받은 인자와 Hashed 암호를 담아 DB에 전달하여 저장합니다.\n",
    "    // const createUserData = \n",
    "          console.log(\"createUserData\",{\n",
    "      userId,\n",
    "      nickname,\n",
    "      password: hashedPassword,\n",
    "      password_salt: salt,\n",
    "    });\n",
    "\n",
    "    // 방금 생성한 유저 데이터를 리턴\n",
    "    return createUserData;\n",
    "  };\n",
    "\n",
    "  hashFunction = (password, mysalt) => {\n",
    "    const salt = mysalt || crypto.randomBytes(128).toString(\"base64\");\n",
    "    const hashedPassword = crypto\n",
    "      .createHash(\"sha512\")\n",
    "      .update(password + salt)\n",
    "      .digest(\"hex\");\n",
    "    return { hashedPassword, salt };\n",
    "  };\n",
    "}\n"
   ]
  },
  {
   "cell_type": "code",
   "execution_count": 2,
   "id": "constitutional-dialogue",
   "metadata": {},
   "outputs": [],
   "source": [
    "const userRepository = new UserRepository();"
   ]
  },
  {
   "cell_type": "code",
   "execution_count": 10,
   "id": "driven-howard",
   "metadata": {},
   "outputs": [
    {
     "name": "stdout",
     "output_type": "stream",
     "text": [
      "{\n",
      "  hashedPassword: 'cca5fb1689f9bd8aaf639ef796e389b74a970638bbad2aeefb43a867eb0d9dc8a842c8fa601651a8d534cf55d8dcddc2d4b03b1c744cdb79756ae6aaf74ea40f',\n",
      "  salt: 't52AAY9b6esjVxlqSVg+54j9PzSt0nEGR9rCxCjqeEOZxebVBYbdtwqNxkeXY7+2s7PNaDtYF33+uWQVxn6A6EAGkXck6jVvP9NnCW/vMPX/j+38oWdQLtsgrMUrFUXDSGe3eHSMyrmSy9SfJLJS9K/BNw2pUZVUpDEIRM4s2A8='\n",
      "}\n"
     ]
    }
   ],
   "source": [
    "console.log(userRepository.hashFunction(\"12345\"))\n"
   ]
  },
  {
   "cell_type": "code",
   "execution_count": 13,
   "id": "intended-wrong",
   "metadata": {},
   "outputs": [
    {
     "name": "stdout",
     "output_type": "stream",
     "text": [
      "{\n",
      "  hashedPassword: '5e3ec6420a37bfd0ed5506af75ed50abf8022b38121a26967284a0a0470df633ca2d429844054f5a9efe2eef7db43667b153771abcadd134085e5a9a6234949d',\n",
      "  salt: 'WwqgcNa9On1SXO0Klzx+Td5exR8E4mIusI4ni6P2p6DjvZ9E7Bz2js2jRe60ACbXy0N59NFjjRQ/AW5168orNzJrPCtY6+Vd06QaNxIkeVMbB2vRgnnKTyWYUrPxX5j/fxWZPmnq2gn+wCrxPMrMNdl+2kQ+7ClOBxFnvL3Qawk='\n",
      "}\n"
     ]
    }
   ],
   "source": [
    "console.log(userRepository.hashFunction(\"12345\", 'WwqgcNa9On1SXO0Klzx+Td5exR8E4mIusI4ni6P2p6DjvZ9E7Bz2js2jRe60ACbXy0N59NFjjRQ/AW5168orNzJrPCtY6+Vd06QaNxIkeVMbB2vRgnnKTyWYUrPxX5j/fxWZPmnq2gn+wCrxPMrMNdl+2kQ+7ClOBxFnvL3Qawk='))"
   ]
  },
  {
   "cell_type": "code",
   "execution_count": null,
   "id": "patent-degree",
   "metadata": {},
   "outputs": [],
   "source": []
  }
 ],
 "metadata": {
  "kernelspec": {
   "display_name": "JavaScript (Node.js)",
   "language": "javascript",
   "name": "javascript"
  },
  "language_info": {
   "file_extension": ".js",
   "mimetype": "application/javascript",
   "name": "javascript",
   "version": "16.16.0"
  }
 },
 "nbformat": 4,
 "nbformat_minor": 5
}
