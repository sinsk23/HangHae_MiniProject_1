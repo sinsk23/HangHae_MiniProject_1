{
 "cells": [
  {
   "cell_type": "code",
   "execution_count": 3,
   "id": "celtic-swimming",
   "metadata": {},
   "outputs": [
    {
     "ename": "SyntaxError",
     "evalue": "Cannot use import statement outside a module",
     "execution_count": 3,
     "output_type": "error",
     "traceback": [
      "evalmachine.<anonymous>:1",
      "import fetch from 'node-fetch'",
      "^^^^^^",
      "",
      "SyntaxError: Cannot use import statement outside a module",
      "    at new Script (node:vm:100:7)",
      "    at createScript (node:vm:257:10)",
      "    at Object.runInThisContext (node:vm:305:10)",
      "    at run ([eval]:1020:15)",
      "    at onRunRequest ([eval]:864:18)",
      "    at onMessage ([eval]:828:13)",
      "    at process.emit (node:events:527:28)",
      "    at emit (node:internal/child_process:938:14)",
      "    at processTicksAndRejections (node:internal/process/task_queues:84:21)"
     ]
    }
   ],
   "source": [
    "const fetch = require(\"node-fetch\");\n",
    "\n",
    "fetch(\"https://apis.data.go.kr/1262000/TravelAlarmService2/getTravelAlarmList2?serviceKey=UG7I9U2He6VkuSBf4wb7SfFKRdaeiaflGMj0nQGf6gMQIQkCVTYee%2F1j288mHKXDardXaxp%2FHeAgTWhQS9ejPw%3D%3D&returnType=JSON&cond%5Bcountry_iso_alp2::EQ%5D=TW\")\n",
    "  .then(res => res.json())\n",
    "  .then(console.log)"
   ]
  },
  {
   "cell_type": "code",
   "execution_count": null,
   "id": "filled-electricity",
   "metadata": {},
   "outputs": [],
   "source": []
  }
 ],
 "metadata": {
  "kernelspec": {
   "display_name": "JavaScript (Node.js)",
   "language": "javascript",
   "name": "javascript"
  },
  "language_info": {
   "file_extension": ".js",
   "mimetype": "application/javascript",
   "name": "javascript",
   "version": "16.16.0"
  }
 },
 "nbformat": 4,
 "nbformat_minor": 5
}
