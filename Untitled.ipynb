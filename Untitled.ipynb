{
 "cells": [
  {
   "cell_type": "code",
   "execution_count": 7,
   "id": "fundamental-hayes",
   "metadata": {},
   "outputs": [],
   "source": [
    "//1번. 일상에 지친 당신은 여행을 떠나기로 마음먹었습니다. 여행을 간다면 어디로 떠나고 싶으시간요?\n",
    "// (Value : 자연 / 도시)\n",
    "\n",
    "// 2번 : 당신은 모험을 즐기시나요?\n",
    "// (Value : 모험/휴양)\n",
    "\n",
    "// 3번 : 여행지로 떠난다면 그곳에서 무엇을 가장 하고 싶으신가요?\n",
    "// (Value : 쇼핑/음식)\n",
    "\n",
    "// 4번 : 어느 정도 윤관을 잡은 당신이 가장 가고싶은 대륙은 어디인가요? -> (유일한 사지선다)\n",
    "// (Value : 아시아/유렵/북미/남미)\n",
    "\n",
    "// 5번 : 이제 마지막! 여행을 떠나기위해 경비를 고려 중인 당신, 어떤 여행을 하고 싶으신가요?\n",
    "// (Value : 고가/저가)\n",
    "\n",
    "// 구분   키워드1   키워드2   키워드3   키워드4   키워드5\n",
    "// 괌    자연   고가   북미   쇼핑   휴양\n",
    "// 네팔   자연   고가   아시아   음식   모험\n",
    "// 대만   도시   저가   아시아   음식   휴양\n",
    "// 러시아   도시   저가   유럽   쇼핑   모험\n",
    "// 멕시코   도시   고가   남미   음식   모험\n",
    "// 미국   도시   고가   북미   쇼핑   휴양\n",
    "// 베트남   자연   저가   아시아   쇼핑   모험\n",
    "// 브라질   자연   고가   남미   음식   모험\n",
    "// 스페인   도시   고가   유럽   음식   모험\n",
    "// 싱가포르   도시   고가   아시아   쇼핑   휴양\n",
    "// 영국   도시   고가   유럽   쇼핑   모험\n",
    "// 인도     도시   고가   아시아   음식   모험\n",
    "// 일본    도시   저가   아시아   음식   모험\n",
    "// 중국    도시   저가   아시아   쇼핑   모험\n",
    "// 캐나다   자연   고가   북미   쇼핑   모험\n",
    "// 태국   자연   저가   아시아   음식   휴양\n",
    "// 프랑스   도시   고가   유럽   음식   휴양\n",
    "// 호주   자연   고가   아시아   쇼핑   모험\n"
   ]
  },
  {
   "cell_type": "code",
   "execution_count": 52,
   "id": "dangerous-yorkshire",
   "metadata": {},
   "outputs": [],
   "source": [
    "  // 추천 알고리즘 - 우선 1~18사이 난수 반환\n",
    "function recommendationFnDeveloping (answersArr) {\n",
    "    // 우선 min ~ max 사이의 랜덤값을 뱉는 함수\n",
    "    const ourRecommendationSheet = [\n",
    "        ['자연', '고가', '북미', '쇼핑', '휴양', '괌',5],\n",
    "        ['자연', '고가', '아시아', '음식', '모험', '네팔',1],\n",
    "        ['도시', '저가', '아시아', '음식', '휴양', '대만',10],\n",
    "        ['도시', '저가', '유럽', '쇼핑', '모험', '러시아',7],\n",
    "        ['도시', '고가', '남미', '음식', '모험', '멕시코',4],\n",
    "        ['도시', '고가', '북미', '쇼핑', '휴양', '미국',16],\n",
    "        ['자연', '저가', '아시아', '쇼핑', '모험', '베트남',15],\n",
    "        ['자연', '고가', '남미', '음식', '모험', '브라질',3],\n",
    "        ['도시', '고가', '유럽', '음식', '모험', '스페인',14],\n",
    "        ['도시', '고가', '아시아', '쇼핑', '휴양', '싱가포르',13],\n",
    "        ['도시', '고가', '유럽', '쇼핑', '모험', '영국',12],\n",
    "        ['도시', '고가', '아시아', '음식', '모험', '인도',2],\n",
    "        ['도시', '저가', '아시아', '음식', '모험', '일본',17],\n",
    "        ['도시', '저가', '아시아', '쇼핑', '모험', '중국',6],\n",
    "        ['자연', '고가', '북미', '쇼핑', '모험', '캐나다',9],\n",
    "        ['자연', '저가', '아시아', '음식', '휴양', '태국', 8,],\n",
    "        ['도시', '고가', '유럽', '음식', '휴양', '프랑스', 18],\n",
    "        ['자연', '고가', '아시아', '쇼핑', '모험', '호주',11]]\n",
    "    \n",
    "    for ( let i = 0; i < ourRecommendationSheet.length; i++) {\n",
    "        if (answersArr.every((r)=> ourRecommendationSheet[i].includes(r))){\n",
    "            return ourRecommendationSheet[i][ourRecommendationSheet[i].length-1];\n",
    "        }\n",
    "    }\n",
    "    \n",
    "  };"
   ]
  },
  {
   "cell_type": "code",
   "execution_count": 53,
   "id": "royal-silver",
   "metadata": {},
   "outputs": [
    {
     "name": "stdout",
     "output_type": "stream",
     "text": [
      "5 괌\n",
      "1 네팔\n",
      "10 대만\n",
      "7 러시아\n",
      "4 멕시코\n",
      "16 미국\n",
      "15 베트남\n",
      "3 브라질\n",
      "14 스페인\n",
      "13 싱가포르\n",
      "12 영국\n",
      "2 인도\n",
      "17 일본\n",
      "6 중국\n",
      "9 캐나다\n",
      "8 태국\n",
      "18 프랑스\n",
      "11 호주\n"
     ]
    }
   ],
   "source": [
    "console.log(recommendationFnDeveloping(['자연', '고가', '북미', '쇼핑', '휴양']), '괌');\n",
    "console.log(recommendationFnDeveloping(['자연', '고가', '아시아', '음식', '모험']), '네팔');\n",
    "console.log(recommendationFnDeveloping(['도시', '저가', '아시아', '음식', '휴양']), '대만');\n",
    "console.log(recommendationFnDeveloping(['도시', '저가', '유럽', '쇼핑', '모험']), '러시아');\n",
    "console.log(recommendationFnDeveloping(['도시', '고가', '남미', '음식', '모험']), '멕시코');\n",
    "console.log(recommendationFnDeveloping(['도시', '고가', '북미', '쇼핑', '휴양']), '미국');\n",
    "console.log(recommendationFnDeveloping(['자연', '저가', '아시아', '쇼핑', '모험']), '베트남');\n",
    "console.log(recommendationFnDeveloping(['자연', '고가', '남미', '음식', '모험']), '브라질');\n",
    "console.log(recommendationFnDeveloping(['도시', '고가', '유럽', '음식', '모험']), '스페인');\n",
    "console.log(recommendationFnDeveloping(['도시', '고가', '아시아', '쇼핑', '휴양']), '싱가포르');\n",
    "console.log(recommendationFnDeveloping(['도시', '고가', '유럽', '쇼핑', '모험']), '영국');\n",
    "console.log(recommendationFnDeveloping(['도시', '고가', '아시아', '음식', '모험']), '인도');\n",
    "console.log(recommendationFnDeveloping(['도시', '저가', '아시아', '음식', '모험']), '일본');\n",
    "console.log(recommendationFnDeveloping(['도시', '저가', '아시아', '쇼핑', '모험']), '중국');\n",
    "console.log(recommendationFnDeveloping(['자연', '고가', '북미', '쇼핑', '모험']), '캐나다');\n",
    "console.log(recommendationFnDeveloping(['자연', '저가', '아시아', '음식', '휴양']), '태국');\n",
    "console.log(recommendationFnDeveloping(['도시', '고가', '유럽', '음식', '휴양']), '프랑스');\n",
    "console.log(recommendationFnDeveloping(['자연', '고가', '아시아', '쇼핑', '모험']), '호주');"
   ]
  },
  {
   "cell_type": "code",
   "execution_count": 4,
   "id": "sticky-herald",
   "metadata": {},
   "outputs": [],
   "source": [
    "connst arr = ['자연', '고가', '아시아', '쇼핑', '모험', '호주']]"
   ]
  },
  {
   "cell_type": "code",
   "execution_count": 5,
   "id": "christian-reviewer",
   "metadata": {},
   "outputs": [
    {
     "data": {
      "text/plain": [
       "true"
      ]
     },
     "execution_count": 5,
     "metadata": {},
     "output_type": "execute_result"
    }
   ],
   "source": [
    "arr.some(r => ['자연', '고가', '아시아', '쇼핑', '모험'].includes(r))"
   ]
  },
  {
   "cell_type": "code",
   "execution_count": null,
   "id": "civil-little",
   "metadata": {},
   "outputs": [],
   "source": []
  }
 ],
 "metadata": {
  "kernelspec": {
   "display_name": "JavaScript (Node.js)",
   "language": "javascript",
   "name": "javascript"
  },
  "language_info": {
   "file_extension": ".js",
   "mimetype": "application/javascript",
   "name": "javascript",
   "version": "16.16.0"
  }
 },
 "nbformat": 4,
 "nbformat_minor": 5
}
