{
 "cells": [
  {
   "cell_type": "code",
   "execution_count": 5,
   "id": "irish-wisdom",
   "metadata": {},
   "outputs": [],
   "source": [
    "import pandas as pd\n",
    "\n",
    "def sklearn_csv_to_data(csv_file):\n",
    "    df = pd.read_csv(csv_file, header = none)\n",
    "    feature_names = list(df.columns.values)\n",
    "    data = df.values\n",
    "    return feature_names, data"
   ]
  },
  {
   "cell_type": "code",
   "execution_count": 6,
   "id": "processed-hierarchy",
   "metadata": {},
   "outputs": [
    {
     "data": {
      "text/plain": [
       "(['자연', '고가', '북미', '쇼핑', '휴양', '괌'],\n",
       " array([['자연', '고가', '아시아', '음식', '모험', '네팔'],\n",
       "        ['도시', '저가', '아시아', '음식', '휴양', '대만'],\n",
       "        ['도시', '저가', '유럽', '쇼핑', '모험', '러시아'],\n",
       "        ['도시', '고가', '남미', '음식', '모험', '멕시코'],\n",
       "        ['도시', '고가', '북미', '쇼핑', '휴양', '미국'],\n",
       "        ['자연', '저가', '아시아', '쇼핑', '모험', '베트남'],\n",
       "        ['자연', '고가', '남미', '음식', '모험', '브라질'],\n",
       "        ['도시', '고가', '유럽', '음식', '모험', '스페인'],\n",
       "        ['도시', '고가', '아시아', '쇼핑', '휴양', '싱가포르'],\n",
       "        ['도시', '고가', '유럽', '쇼핑', '모험', '영국'],\n",
       "        ['도시', '고가', '아시아', '음식', '모험', '인도'],\n",
       "        ['도시', '저가', '아시아', '음식', '모험', '일본'],\n",
       "        ['도시', '저가', '아시아', '쇼핑', '모험', '중국'],\n",
       "        ['자연', '고가', '북미', '쇼핑', '모험', '캐나다'],\n",
       "        ['자연', '저가', '아시아', '음식', '휴양', '태국'],\n",
       "        ['도시', '고가', '유럽', '음식', '휴양', '프랑스'],\n",
       "        ['자연', '고가', '아시아', '쇼핑', '모험', '호주']], dtype=object))"
      ]
     },
     "execution_count": 6,
     "metadata": {},
     "output_type": "execute_result"
    }
   ],
   "source": [
    "sklearn_csv_to_data(\"questionData.csv\")"
   ]
  },
  {
   "cell_type": "code",
   "execution_count": null,
   "id": "unlikely-container",
   "metadata": {},
   "outputs": [],
   "source": []
  }
 ],
 "metadata": {
  "kernelspec": {
   "display_name": "Python 3",
   "language": "python",
   "name": "python3"
  },
  "language_info": {
   "codemirror_mode": {
    "name": "ipython",
    "version": 3
   },
   "file_extension": ".py",
   "mimetype": "text/x-python",
   "name": "python",
   "nbconvert_exporter": "python",
   "pygments_lexer": "ipython3",
   "version": "3.9.1"
  }
 },
 "nbformat": 4,
 "nbformat_minor": 5
}
